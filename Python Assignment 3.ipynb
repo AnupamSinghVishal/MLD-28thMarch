{
 "cells": [
  {
   "cell_type": "markdown",
   "metadata": {},
   "source": [
    "# 1.1"
   ]
  },
  {
   "cell_type": "code",
   "execution_count": 1,
   "metadata": {},
   "outputs": [],
   "source": [
    "# Creation of new reduce function:\n",
    "def new_reduce(func, seq):\n",
    "    result = seq[0]\n",
    "    for i in seq[1:]:\n",
    "        result = func(result, i)\n",
    "    return result"
   ]
  },
  {
   "cell_type": "code",
   "execution_count": 2,
   "metadata": {},
   "outputs": [
    {
     "name": "stdout",
     "output_type": "stream",
     "text": [
      "15\n"
     ]
    }
   ],
   "source": [
    "# testing of new_reduce function:\n",
    "def sum(x,y):\n",
    "    return x+y\n",
    "\n",
    "list_1 = [1,2,3,4,5]\n",
    "\n",
    "print(new_reduce(sum,list_1))"
   ]
  },
  {
   "cell_type": "markdown",
   "metadata": {},
   "source": [
    "# 1.2"
   ]
  },
  {
   "cell_type": "code",
   "execution_count": 3,
   "metadata": {},
   "outputs": [],
   "source": [
    "# Creation of new filter function:\n",
    "def new_filter(func, seq):\n",
    "    result = []\n",
    "    for i in seq:\n",
    "        if func(i):\n",
    "            result.append(i)\n",
    "    return result"
   ]
  },
  {
   "cell_type": "code",
   "execution_count": 4,
   "metadata": {},
   "outputs": [
    {
     "name": "stdout",
     "output_type": "stream",
     "text": [
      "[1, 2, 8]\n"
     ]
    }
   ],
   "source": [
    "# testing of new_filter function\n",
    "def ispositive(x):\n",
    "    if (x >= 0): \n",
    "        return True\n",
    "    else: \n",
    "        return False\n",
    "\n",
    "list_2 = [1,2,-1,-4,8]\n",
    "\n",
    "print(str(new_filter(ispositive, list_2)))"
   ]
  },
  {
   "cell_type": "markdown",
   "metadata": {},
   "source": [
    "# 2"
   ]
  },
  {
   "cell_type": "code",
   "execution_count": 5,
   "metadata": {},
   "outputs": [
    {
     "name": "stdout",
     "output_type": "stream",
     "text": [
      "['x', 'xx', 'xxx', 'xxxx', 'y', 'yy', 'yyy', 'yyyy', 'z', 'zz', 'zzz', 'zzzz']\n",
      "['x', 'y', 'z', 'xx', 'yy', 'zz', 'xxx', 'yyy', 'zzz', 'xxxx', 'yyyy', 'zzzz']\n",
      "[[2], [3], [4], [3], [4], [5], [4], [5], [6]]\n",
      "[[2, 3, 4, 5], [3, 4, 5, 6], [4, 5, 6, 7], [5, 6, 7, 8]]\n",
      "[(1, 1), (2, 1), (3, 1), (1, 2), (2, 2), (3, 2), (1, 3), (2, 3), (3, 3)]\n"
     ]
    }
   ],
   "source": [
    "l1 = ['x','y','z']\n",
    "l2 = [i*j for j in l1 for i in range(1, 5)]\n",
    "l3 = [i*j for j in range(1, 5) for i in l1]\n",
    "l4 = [[i + j] for j in range(3) for i in range(2, 5)]\n",
    "l5 = [2,3,4,5]\n",
    "l6 = [[i+num for i in l5] for num in range(4)]\n",
    "l7 = [(i, j) for j in range(1, 4) for i in range(1, 4)]\n",
    "print(l2)\n",
    "print(l3)\n",
    "print(l4)\n",
    "print(l6)\n",
    "print(l7)"
   ]
  }
 ],
 "metadata": {
  "kernelspec": {
   "display_name": "Python 3",
   "language": "python",
   "name": "python3"
  },
  "language_info": {
   "codemirror_mode": {
    "name": "ipython",
    "version": 3
   },
   "file_extension": ".py",
   "mimetype": "text/x-python",
   "name": "python",
   "nbconvert_exporter": "python",
   "pygments_lexer": "ipython3",
   "version": "3.7.3"
  }
 },
 "nbformat": 4,
 "nbformat_minor": 2
}
