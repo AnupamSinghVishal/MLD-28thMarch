{
 "cells": [
  {
   "cell_type": "markdown",
   "metadata": {},
   "source": [
    "# 1.1"
   ]
  },
  {
   "cell_type": "code",
   "execution_count": 1,
   "metadata": {},
   "outputs": [
    {
     "name": "stdout",
     "output_type": "stream",
     "text": [
      "Enter side 1: 5\n",
      "Enter side 2: 7\n",
      "Enter side 3: 10\n",
      "Area of triangle is: 16.24807680927192\n"
     ]
    }
   ],
   "source": [
    "class Triangle:\n",
    "    def __init__(self,a,b,c):\n",
    "        self.a=a\n",
    "        self.b=b\n",
    "        self.c=c\n",
    "\n",
    "class Trianglecalc(Triangle):\n",
    "        def __init__(self,a,b,c):\n",
    "            super(Trianglecalc,self).__init__(a,b,c)\n",
    "        \n",
    "        def area(self):\n",
    "            s= ((self.a+self.b+self.c)/2)\n",
    "            return(s*(s-self.a)*(s-self.b)*(s-self.c))**0.5\n",
    "\n",
    "side1= int(input(\"Enter side 1: \"))\n",
    "side2= int(input(\"Enter side 2: \"))\n",
    "side3= int(input(\"Enter side 3: \"))\n",
    "print(\"Area of triangle is: \"+ str(Trianglecalc(side1,side2,side3).area()))"
   ]
  },
  {
   "cell_type": "markdown",
   "metadata": {},
   "source": [
    "# 1.2"
   ]
  },
  {
   "cell_type": "code",
   "execution_count": 2,
   "metadata": {},
   "outputs": [
    {
     "name": "stdout",
     "output_type": "stream",
     "text": [
      "Enter words: A quick brown fox jumps over a lazy dog \n",
      "Enter length to check: 3\n",
      "The list of words longer than mentioned length is ['quick', 'brown', 'jumps', 'over', 'lazy']\n"
     ]
    }
   ],
   "source": [
    "def filter_long_words(string,length):\n",
    "    new_words = []\n",
    "    for i in range(len(string)):\n",
    "        if len(string[i]) > length:\n",
    "            new_words.append(string[i])\n",
    "    return new_words\n",
    "\n",
    "def input_word_length():\n",
    "    words=input(\"Enter words: \").split(' ')\n",
    "    word_length=int(input(\"Enter length to check: \"))\n",
    "    final_words=filter_long_words(words,word_length)\n",
    "    print(\"The list of words longer than mentioned length is\", final_words)\n",
    "    \n",
    "input_word_length()"
   ]
  },
  {
   "cell_type": "markdown",
   "metadata": {},
   "source": [
    "# 2.1"
   ]
  },
  {
   "cell_type": "code",
   "execution_count": 3,
   "metadata": {},
   "outputs": [
    {
     "name": "stdout",
     "output_type": "stream",
     "text": [
      "Word length: [2, 3, 6]\n"
     ]
    }
   ],
   "source": [
    "word_list= [\"We\", \"the\", \"people\"]\n",
    "def lengthcheck(word_list):\n",
    "    length=[]\n",
    "    for i in word_list:\n",
    "        length.append(len(i))\n",
    "    return length\n",
    "\n",
    "print(\"Word length:\" , lengthcheck(word_list))"
   ]
  },
  {
   "cell_type": "markdown",
   "metadata": {},
   "source": [
    "# 2.2"
   ]
  },
  {
   "cell_type": "code",
   "execution_count": 4,
   "metadata": {},
   "outputs": [
    {
     "name": "stdout",
     "output_type": "stream",
     "text": [
      "Input an alphabet:  a\n",
      "True\n"
     ]
    }
   ],
   "source": [
    "def vowel_check():\n",
    "    l = input('Input an alphabet:  ')\n",
    "    if len(l) == 1:\n",
    "        list_1 = ['a','e','i','o','u','A','E','I','O','U']\n",
    "        if l in list_1:\n",
    "            print('True')\n",
    "        else:\n",
    "            print('False')\n",
    "    else:\n",
    "        print('Invalid input. Kindly enter single character')\n",
    "        \n",
    "vowel_check()"
   ]
  }
 ],
 "metadata": {
  "kernelspec": {
   "display_name": "Python 3",
   "language": "python",
   "name": "python3"
  },
  "language_info": {
   "codemirror_mode": {
    "name": "ipython",
    "version": 3
   },
   "file_extension": ".py",
   "mimetype": "text/x-python",
   "name": "python",
   "nbconvert_exporter": "python",
   "pygments_lexer": "ipython3",
   "version": "3.7.3"
  }
 },
 "nbformat": 4,
 "nbformat_minor": 2
}
